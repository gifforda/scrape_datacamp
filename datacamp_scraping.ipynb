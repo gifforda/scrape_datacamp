{
 "cells": [
  {
   "cell_type": "markdown",
   "metadata": {},
   "source": [
    "# Scrape Datacamp"
   ]
  },
  {
   "cell_type": "code",
   "execution_count": 1,
   "metadata": {},
   "outputs": [],
   "source": [
    "# import libraries\n",
    "from bs4 import BeautifulSoup\n",
    "import requests\n",
    "import pandas as pd"
   ]
  },
  {
   "cell_type": "code",
   "execution_count": 2,
   "metadata": {},
   "outputs": [],
   "source": [
    "# display the full text in a cell\n",
    "pd.set_option('display.max_colwidth', 100)\n",
    "pd.set_option('display.colheader_justify', 'left')"
   ]
  },
  {
   "cell_type": "code",
   "execution_count": 3,
   "metadata": {},
   "outputs": [],
   "source": [
    "# turn a string into a clickable URL\n",
    "def make_clickable(val):\n",
    "    return '<a href=\"{}\">{}</a>'.format(val,val)"
   ]
  },
  {
   "cell_type": "code",
   "execution_count": 4,
   "metadata": {},
   "outputs": [],
   "source": [
    "# collect the page \n",
    "url = \"https://www.datacamp.com/courses/tech:r\"\n",
    "page = requests.get(url)"
   ]
  },
  {
   "cell_type": "code",
   "execution_count": 5,
   "metadata": {},
   "outputs": [],
   "source": [
    "# parse the page\n",
    "soup = BeautifulSoup(page.text, 'html.parser')"
   ]
  },
  {
   "cell_type": "code",
   "execution_count": 6,
   "metadata": {},
   "outputs": [],
   "source": [
    "# find the section with all the courses\n",
    "all_courses = soup.find(class_='courses__explore-list row')"
   ]
  },
  {
   "cell_type": "code",
   "execution_count": 7,
   "metadata": {},
   "outputs": [],
   "source": [
    "# get all the sections which contain a class description\n",
    "all_courses_names = all_courses.find_all('a', class_='course-block__link')"
   ]
  },
  {
   "cell_type": "code",
   "execution_count": 8,
   "metadata": {},
   "outputs": [],
   "source": [
    "# create a matrix of all the data\n",
    "data = []\n",
    "\n",
    "# parse each course for the course specific content\n",
    "for course in all_courses_names:\n",
    "    title = course.find_all(class_='course-block__title')[0].get_text()\n",
    "    description = course.find_all(class_='course-block__description')[0].get_text().strip()\n",
    "    time = course.find_all(class_='course-block__length')[0].get_text()\n",
    "    link = course['href']\n",
    "    data.append([title, description, time, link])"
   ]
  },
  {
   "cell_type": "code",
   "execution_count": 9,
   "metadata": {},
   "outputs": [],
   "source": [
    "# create a pandas dataframe with all the data\n",
    "column_names = ['Title', 'Description', 'Time', 'Link']\n",
    "df_classes = pd.DataFrame(data)\n",
    "df_classes.columns = column_names"
   ]
  },
  {
   "cell_type": "code",
   "execution_count": 10,
   "metadata": {},
   "outputs": [],
   "source": [
    "# make the URL link\n",
    "df_classes['URL'] = 'https://www.datacamp.com' + df_classes.Link"
   ]
  },
  {
   "cell_type": "code",
   "execution_count": 11,
   "metadata": {},
   "outputs": [],
   "source": [
    "df_classes.drop(['Link'], axis=1, inplace=True)"
   ]
  },
  {
   "cell_type": "code",
   "execution_count": 12,
   "metadata": {},
   "outputs": [
    {
     "data": {
      "text/html": [
       "<div>\n",
       "<style scoped>\n",
       "    .dataframe tbody tr th:only-of-type {\n",
       "        vertical-align: middle;\n",
       "    }\n",
       "\n",
       "    .dataframe tbody tr th {\n",
       "        vertical-align: top;\n",
       "    }\n",
       "\n",
       "    .dataframe thead th {\n",
       "        text-align: right;\n",
       "    }\n",
       "</style>\n",
       "<table border=\"1\" class=\"dataframe\">\n",
       "  <thead>\n",
       "    <tr style=\"text-align: left;\">\n",
       "      <th></th>\n",
       "      <th>Title</th>\n",
       "      <th>Description</th>\n",
       "      <th>Time</th>\n",
       "      <th>URL</th>\n",
       "    </tr>\n",
       "  </thead>\n",
       "  <tbody>\n",
       "    <tr>\n",
       "      <th>3</th>\n",
       "      <td>Importing Data in R (Part 1)</td>\n",
       "      <td>In this course, you will learn to read CSV, XLS, and text files in R using tools like readxl and...</td>\n",
       "      <td>3 hours</td>\n",
       "      <td>https://www.datacamp.com/courses/importing-data-in-r-part-1</td>\n",
       "    </tr>\n",
       "    <tr>\n",
       "      <th>40</th>\n",
       "      <td>Working with the RStudio IDE (Part 1)</td>\n",
       "      <td>Learn the basics of the important features of the RStudio IDE.</td>\n",
       "      <td>3 hours</td>\n",
       "      <td>https://www.datacamp.com/courses/working-with-the-rstudio-ide-part-1</td>\n",
       "    </tr>\n",
       "    <tr>\n",
       "      <th>11</th>\n",
       "      <td>Importing Data in R (Part 2)</td>\n",
       "      <td>Parse data in any format. Whether it's flat files, statistical software, databases, or data righ...</td>\n",
       "      <td>3 hours</td>\n",
       "      <td>https://www.datacamp.com/courses/importing-data-in-r-part-2</td>\n",
       "    </tr>\n",
       "    <tr>\n",
       "      <th>62</th>\n",
       "      <td>Working with the RStudio IDE (Part 2)</td>\n",
       "      <td>Further your knowledge of RStudio and learn how to integrate Git, LaTeX, and Shiny</td>\n",
       "      <td>3 hours</td>\n",
       "      <td>https://www.datacamp.com/courses/working-with-the-rstudio-ide-part-2</td>\n",
       "    </tr>\n",
       "    <tr>\n",
       "      <th>22</th>\n",
       "      <td>Reporting with R Markdown</td>\n",
       "      <td>Learn to create interactive analyses and automated reports with R Markdown.</td>\n",
       "      <td>3 hours</td>\n",
       "      <td>https://www.datacamp.com/courses/reporting-with-r-markdown</td>\n",
       "    </tr>\n",
       "  </tbody>\n",
       "</table>\n",
       "</div>"
      ],
      "text/plain": [
       "   Title                                   \\\n",
       "3            Importing Data in R (Part 1)   \n",
       "40  Working with the RStudio IDE (Part 1)   \n",
       "11           Importing Data in R (Part 2)   \n",
       "62  Working with the RStudio IDE (Part 2)   \n",
       "22              Reporting with R Markdown   \n",
       "\n",
       "   Description                                                                                           \\\n",
       "3   In this course, you will learn to read CSV, XLS, and text files in R using tools like readxl and...   \n",
       "40                                       Learn the basics of the important features of the RStudio IDE.   \n",
       "11  Parse data in any format. Whether it's flat files, statistical software, databases, or data righ...   \n",
       "62                   Further your knowledge of RStudio and learn how to integrate Git, LaTeX, and Shiny   \n",
       "22                          Learn to create interactive analyses and automated reports with R Markdown.   \n",
       "\n",
       "   Time       \\\n",
       "3    3 hours   \n",
       "40   3 hours   \n",
       "11   3 hours   \n",
       "62   3 hours   \n",
       "22   3 hours   \n",
       "\n",
       "   URL                                                                    \n",
       "3            https://www.datacamp.com/courses/importing-data-in-r-part-1  \n",
       "40  https://www.datacamp.com/courses/working-with-the-rstudio-ide-part-1  \n",
       "11           https://www.datacamp.com/courses/importing-data-in-r-part-2  \n",
       "62  https://www.datacamp.com/courses/working-with-the-rstudio-ide-part-2  \n",
       "22            https://www.datacamp.com/courses/reporting-with-r-markdown  "
      ]
     },
     "execution_count": 12,
     "metadata": {},
     "output_type": "execute_result"
    }
   ],
   "source": [
    "df_classes.sort_values('Time').head()"
   ]
  },
  {
   "cell_type": "code",
   "execution_count": 13,
   "metadata": {},
   "outputs": [
    {
     "data": {
      "text/html": [
       "<div>\n",
       "<style scoped>\n",
       "    .dataframe tbody tr th:only-of-type {\n",
       "        vertical-align: middle;\n",
       "    }\n",
       "\n",
       "    .dataframe tbody tr th {\n",
       "        vertical-align: top;\n",
       "    }\n",
       "\n",
       "    .dataframe thead th {\n",
       "        text-align: right;\n",
       "    }\n",
       "</style>\n",
       "<table border=\"1\" class=\"dataframe\">\n",
       "  <thead>\n",
       "    <tr style=\"text-align: left;\">\n",
       "      <th></th>\n",
       "      <th>Title</th>\n",
       "      <th>Description</th>\n",
       "      <th>Time</th>\n",
       "      <th>URL</th>\n",
       "    </tr>\n",
       "  </thead>\n",
       "  <tbody>\n",
       "    <tr>\n",
       "      <th>2</th>\n",
       "      <td>Data Visualization with ggplot2 (Part 1)</td>\n",
       "      <td>Learn to produce meaningful and beautiful data visualizations with ggplot2 by understanding the ...</td>\n",
       "      <td>5 hours</td>\n",
       "      <td>https://www.datacamp.com/courses/data-visualization-with-ggplot2-1</td>\n",
       "    </tr>\n",
       "    <tr>\n",
       "      <th>13</th>\n",
       "      <td>Data Visualization in R</td>\n",
       "      <td>This course provides a comprehensive introduction to working with base graphics in R.</td>\n",
       "      <td>4 hours</td>\n",
       "      <td>https://www.datacamp.com/courses/data-visualization-in-r</td>\n",
       "    </tr>\n",
       "    <tr>\n",
       "      <th>21</th>\n",
       "      <td>Data Visualization with ggplot2 (Part 2)</td>\n",
       "      <td>Take your data visualization skills to the next level with coordinates, facets, themes, and best...</td>\n",
       "      <td>5 hours</td>\n",
       "      <td>https://www.datacamp.com/courses/data-visualization-with-ggplot2-2</td>\n",
       "    </tr>\n",
       "    <tr>\n",
       "      <th>32</th>\n",
       "      <td>Data Visualization with ggplot2 (Part 3)</td>\n",
       "      <td>This course covers some advanced topics including strategies for handling large data sets and sp...</td>\n",
       "      <td>6 hours</td>\n",
       "      <td>https://www.datacamp.com/courses/data-visualization-with-ggplot2-part-3</td>\n",
       "    </tr>\n",
       "    <tr>\n",
       "      <th>51</th>\n",
       "      <td>Visualizing Time Series Data in R</td>\n",
       "      <td>Learn how to visualize time series in R, then practice with a stock-picking case study.</td>\n",
       "      <td>4 hours</td>\n",
       "      <td>https://www.datacamp.com/courses/visualizing-time-series-data-in-r</td>\n",
       "    </tr>\n",
       "    <tr>\n",
       "      <th>65</th>\n",
       "      <td>Data Visualization in R with ggvis</td>\n",
       "      <td>Learn to create interactive graphs to display distributions, relationships, model fits, and more...</td>\n",
       "      <td>4 hours</td>\n",
       "      <td>https://www.datacamp.com/courses/ggvis-data-visualization-r-tutorial</td>\n",
       "    </tr>\n",
       "    <tr>\n",
       "      <th>66</th>\n",
       "      <td>Data Visualization in R with lattice</td>\n",
       "      <td>Learn to visualize multivariate datasets using lattice graphics.</td>\n",
       "      <td>4 hours</td>\n",
       "      <td>https://www.datacamp.com/courses/data-visualization-in-r-with-lattice</td>\n",
       "    </tr>\n",
       "  </tbody>\n",
       "</table>\n",
       "</div>"
      ],
      "text/plain": [
       "   Title                                      \\\n",
       "2   Data Visualization with ggplot2 (Part 1)   \n",
       "13                   Data Visualization in R   \n",
       "21  Data Visualization with ggplot2 (Part 2)   \n",
       "32  Data Visualization with ggplot2 (Part 3)   \n",
       "51         Visualizing Time Series Data in R   \n",
       "65        Data Visualization in R with ggvis   \n",
       "66      Data Visualization in R with lattice   \n",
       "\n",
       "   Description                                                                                           \\\n",
       "2   Learn to produce meaningful and beautiful data visualizations with ggplot2 by understanding the ...   \n",
       "13                This course provides a comprehensive introduction to working with base graphics in R.   \n",
       "21  Take your data visualization skills to the next level with coordinates, facets, themes, and best...   \n",
       "32  This course covers some advanced topics including strategies for handling large data sets and sp...   \n",
       "51              Learn how to visualize time series in R, then practice with a stock-picking case study.   \n",
       "65  Learn to create interactive graphs to display distributions, relationships, model fits, and more...   \n",
       "66                                     Learn to visualize multivariate datasets using lattice graphics.   \n",
       "\n",
       "   Time       \\\n",
       "2    5 hours   \n",
       "13   4 hours   \n",
       "21   5 hours   \n",
       "32   6 hours   \n",
       "51   4 hours   \n",
       "65   4 hours   \n",
       "66   4 hours   \n",
       "\n",
       "   URL                                                                       \n",
       "2        https://www.datacamp.com/courses/data-visualization-with-ggplot2-1  \n",
       "13                 https://www.datacamp.com/courses/data-visualization-in-r  \n",
       "21       https://www.datacamp.com/courses/data-visualization-with-ggplot2-2  \n",
       "32  https://www.datacamp.com/courses/data-visualization-with-ggplot2-part-3  \n",
       "51       https://www.datacamp.com/courses/visualizing-time-series-data-in-r  \n",
       "65     https://www.datacamp.com/courses/ggvis-data-visualization-r-tutorial  \n",
       "66    https://www.datacamp.com/courses/data-visualization-in-r-with-lattice  "
      ]
     },
     "execution_count": 13,
     "metadata": {},
     "output_type": "execute_result"
    }
   ],
   "source": [
    "df_classes[df_classes.Title.str.contains('Visual')]"
   ]
  },
  {
   "cell_type": "code",
   "execution_count": null,
   "metadata": {},
   "outputs": [],
   "source": []
  },
  {
   "cell_type": "code",
   "execution_count": null,
   "metadata": {},
   "outputs": [],
   "source": []
  },
  {
   "cell_type": "code",
   "execution_count": null,
   "metadata": {},
   "outputs": [],
   "source": []
  },
  {
   "cell_type": "code",
   "execution_count": null,
   "metadata": {},
   "outputs": [],
   "source": []
  },
  {
   "cell_type": "code",
   "execution_count": null,
   "metadata": {},
   "outputs": [],
   "source": []
  },
  {
   "cell_type": "code",
   "execution_count": null,
   "metadata": {},
   "outputs": [],
   "source": []
  },
  {
   "cell_type": "code",
   "execution_count": 14,
   "metadata": {},
   "outputs": [],
   "source": [
    "# df_classes.style.format({'URL': make_clickable})"
   ]
  },
  {
   "cell_type": "code",
   "execution_count": 15,
   "metadata": {},
   "outputs": [],
   "source": [
    "# df_classes.style.set_properties(**{'text-align': 'left'})"
   ]
  }
 ],
 "metadata": {
  "kernelspec": {
   "display_name": "Python 3",
   "language": "python",
   "name": "python3"
  },
  "language_info": {
   "codemirror_mode": {
    "name": "ipython",
    "version": 3
   },
   "file_extension": ".py",
   "mimetype": "text/x-python",
   "name": "python",
   "nbconvert_exporter": "python",
   "pygments_lexer": "ipython3",
   "version": "3.5.2"
  }
 },
 "nbformat": 4,
 "nbformat_minor": 2
}
